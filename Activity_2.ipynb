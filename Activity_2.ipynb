{
  "nbformat": 4,
  "nbformat_minor": 0,
  "metadata": {
    "colab": {
      "provenance": [],
      "authorship_tag": "ABX9TyNuNOt9w6Zdyl3wLb738qq0",
      "include_colab_link": true
    },
    "kernelspec": {
      "name": "python3",
      "display_name": "Python 3"
    },
    "language_info": {
      "name": "python"
    }
  },
  "cells": [
    {
      "cell_type": "markdown",
      "metadata": {
        "id": "view-in-github",
        "colab_type": "text"
      },
      "source": [
        "<a href=\"https://colab.research.google.com/github/VictorMtz-95/PythonExercises_1/blob/main/Activity_2.ipynb\" target=\"_parent\"><img src=\"https://colab.research.google.com/assets/colab-badge.svg\" alt=\"Open In Colab\"/></a>"
      ]
    },
    {
      "cell_type": "markdown",
      "source": [
        "## Student: **Víctor Daniel Martínez Treviño**\n",
        "## ID: **1947541**\n",
        "## Career: **IB**\n"
      ],
      "metadata": {
        "id": "rqg7uz0cL6W_"
      }
    },
    {
      "cell_type": "markdown",
      "source": [
        "### ***Hangman***"
      ],
      "metadata": {
        "id": "8PTWgOJa53Px"
      }
    },
    {
      "cell_type": "code",
      "execution_count": null,
      "metadata": {
        "colab": {
          "base_uri": "https://localhost:8080/"
        },
        "id": "CuBjE_4o5lq4",
        "outputId": "c59a4b21-00d8-4b1b-d92b-f85fa677d039"
      },
      "outputs": [
        {
          "output_type": "stream",
          "name": "stdout",
          "text": [
            "Let's play Hangman!\n",
            "\n",
            "___\n",
            "Guess a letter: b\n",
            "Wrong guess! You have 4 attempts left.\n",
            "___\n",
            "Guess a letter: a\n",
            "Good guess!\n",
            "_a_\n",
            "Guess a letter: c\n",
            "Good guess!\n",
            "ca_\n",
            "Guess a letter: r\n",
            "Good guess!\n",
            "car\n",
            "Congratulations! You guessed the word: car\n"
          ]
        }
      ],
      "source": [
        "\n",
        "import random\n",
        "\n",
        "# List of words for the game\n",
        "word_list = [\"chair\", \"car\", \"book\", \"computer\", \"dog\", \"table\", \"bicycle\", \"lamp\", \"backpack\", \"shoes\"]\n",
        "\n",
        "# Function to choose a random word from the list\n",
        "def choose_word():\n",
        "    return random.choice(word_list)\n",
        "\n",
        "# Function to display the current state of the word with blanks\n",
        "def display_word(word, guessed_letters):\n",
        "    display = \"\"\n",
        "    for letter in word:\n",
        "        if letter in guessed_letters:\n",
        "            display += letter\n",
        "        else:\n",
        "            display += \"_\"\n",
        "    return display\n",
        "\n",
        "# Function to play the Hangman game\n",
        "def play_hangman():\n",
        "    word_to_guess = choose_word()\n",
        "    guessed_letters = []\n",
        "    attempts = 5\n",
        "\n",
        "    print(\"Let's play Hangman!\\n\")\n",
        "    print(display_word(word_to_guess, guessed_letters))\n",
        "\n",
        "    while True:\n",
        "        guess = input(\"Guess a letter: \").lower()\n",
        "\n",
        "        if len(guess) != 1 or not guess.isalpha():\n",
        "            print(\"Please enter a single letter.\")\n",
        "            continue\n",
        "\n",
        "        if guess in guessed_letters:\n",
        "            print(\"You already guessed that letter.\")\n",
        "            continue\n",
        "\n",
        "        guessed_letters.append(guess)\n",
        "\n",
        "        if guess in word_to_guess:\n",
        "            print(\"Good guess!\")\n",
        "        else:\n",
        "            attempts -= 1\n",
        "            print(f\"Wrong guess! You have {attempts} attempts left.\")\n",
        "\n",
        "        current_state = display_word(word_to_guess, guessed_letters)\n",
        "        print(current_state)\n",
        "\n",
        "        if current_state == word_to_guess:\n",
        "            print(\"Congratulations! You guessed the word:\", word_to_guess)\n",
        "            break\n",
        "\n",
        "        if attempts == 0:\n",
        "            print(\"Out of attempts. The word was:\", word_to_guess)\n",
        "            break\n",
        "\n",
        "if __name__ == \"__main__\":\n",
        "    play_hangman()\n"
      ]
    },
    {
      "cell_type": "markdown",
      "source": [
        "### ***Guessing Numbers***"
      ],
      "metadata": {
        "id": "qHrHhuyz6Lhu"
      }
    },
    {
      "cell_type": "code",
      "source": [
        "import random\n",
        "\n",
        "# Generate a random number between 1 and 100\n",
        "target_number = random.randint(1, 100)\n",
        "\n",
        "# Function to play the number guessing game\n",
        "def guess_number():\n",
        "    attempts = 0\n",
        "    while True:\n",
        "        try:\n",
        "            user_guess = int(input(\"Guess the number (between 1 and 100): \"))\n",
        "        except ValueError:\n",
        "            print(\"Invalid input. Please enter a number between 1 and 100.\")\n",
        "            continue\n",
        "\n",
        "        attempts += 1\n",
        "\n",
        "        if user_guess < 1 or user_guess > 100:\n",
        "            print(\"Out of range! Please enter a number between 1 and 100.\")\n",
        "        elif user_guess < target_number:\n",
        "            print(\"Too low! Try a higher number.\")\n",
        "        elif user_guess > target_number:\n",
        "            print(\"Too high! Try a lower number.\")\n",
        "        else:\n",
        "            print(f\"Congratulations! You guessed the number {target_number} in {attempts} attempts.\")\n",
        "            break\n",
        "\n",
        "if __name__ == \"__main__\":\n",
        "    print(\"Welcome to the Number Guessing Game!\")\n",
        "    guess_number()\n"
      ],
      "metadata": {
        "colab": {
          "base_uri": "https://localhost:8080/"
        },
        "id": "aBz3K5xK6VEz",
        "outputId": "3083623b-9643-4b36-e53f-841f832fe9af"
      },
      "execution_count": null,
      "outputs": [
        {
          "output_type": "stream",
          "name": "stdout",
          "text": [
            "Welcome to the Number Guessing Game!\n",
            "Guess the number (between 1 and 100): 20\n",
            "Too low! Try a higher number.\n",
            "Guess the number (between 1 and 100): 60\n",
            "Too low! Try a higher number.\n",
            "Guess the number (between 1 and 100): 99\n",
            "Too high! Try a lower number.\n",
            "Guess the number (between 1 and 100): 80\n",
            "Too low! Try a higher number.\n",
            "Guess the number (between 1 and 100): 85\n",
            "Too low! Try a higher number.\n",
            "Guess the number (between 1 and 100): 89\n",
            "Too high! Try a lower number.\n",
            "Guess the number (between 1 and 100): 88\n",
            "Congratulations! You guessed the number 88 in 7 attempts.\n"
          ]
        }
      ]
    },
    {
      "cell_type": "markdown",
      "source": [
        "### ***Text Analyzer***"
      ],
      "metadata": {
        "id": "4LTuV_lZ7MSJ"
      }
    },
    {
      "cell_type": "code",
      "source": [
        "import re\n",
        "from collections import Counter\n",
        "\n",
        "def analyze_text(file_path):\n",
        "    try:\n",
        "        with open(file_path, 'r', encoding='utf-8') as file:\n",
        "            text = file.read()\n",
        "\n",
        "        # Count words, sentences, and paragraphs\n",
        "        words = text.split()\n",
        "        sentences = re.split(r'[.!?]', text)\n",
        "        paragraphs = re.split(r'\\n\\n', text)\n",
        "\n",
        "        num_words = len(words)\n",
        "        num_sentences = len([s for s in sentences if s.strip() != ''])\n",
        "        num_paragraphs = len(paragraphs)\n",
        "\n",
        "        # Calculate average word length\n",
        "        total_word_length = sum(len(word) for word in words)\n",
        "        avg_word_length = total_word_length / num_words if num_words > 0 else 0\n",
        "\n",
        "        # Identify the most common words and their frequencies\n",
        "        word_freq = Counter(words)\n",
        "        most_common_words = word_freq.most_common(5)  # Change 5 to your desired number of common words\n",
        "\n",
        "        # Display the results\n",
        "        print(f\"Number of words: {num_words}\")\n",
        "        print(f\"Number of sentences: {num_sentences}\")\n",
        "        print(f\"Number of paragraphs: {num_paragraphs}\")\n",
        "        print(f\"Average word length: {avg_word_length:.2f}\")\n",
        "        print(\"\\nMost common words and their frequencies:\")\n",
        "        for word, frequency in most_common_words:\n",
        "            print(f\"{word}: {frequency}\")\n",
        "\n",
        "    except FileNotFoundError:\n",
        "        print(f\"File not found: {file_path}\")\n",
        "\n",
        "if __name__ == \"__main__\":\n",
        "    file_path = input(\"Enter the path to the text file: \")\n",
        "    analyze_text(file_path)\n"
      ],
      "metadata": {
        "colab": {
          "base_uri": "https://localhost:8080/"
        },
        "id": "4TZPWRT_7dTX",
        "outputId": "fba441dd-ae30-4ff5-f052-1eadb455e558"
      },
      "execution_count": null,
      "outputs": [
        {
          "output_type": "stream",
          "name": "stdout",
          "text": [
            "Enter the path to the text file: /media/ACT_2/FRUITS.txt\n",
            "Number of words: 274\n",
            "Number of sentences: 20\n",
            "Number of paragraphs: 6\n",
            "Average word length: 4.52\n",
            "\n",
            "Most common words and their frequencies:\n",
            "of: 13\n",
            "a: 12\n",
            "that: 8\n",
            "we: 7\n",
            "us: 6\n"
          ]
        }
      ]
    }
  ]
}